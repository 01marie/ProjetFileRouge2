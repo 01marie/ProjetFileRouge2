{
 "cells": [
  {
   "cell_type": "code",
   "execution_count": 1,
   "metadata": {
    "collapsed": true
   },
   "outputs": [],
   "source": [
    "import pandas as pd\n",
    "import numpy as np"
   ]
  },
  {
   "cell_type": "code",
   "execution_count": 2,
   "metadata": {
    "collapsed": false
   },
   "outputs": [],
   "source": [
    "# importation des données d'assurance vie\n",
    "\n",
    "df = pd.read_excel(\"HistoFluxAssurVie V3bis.xlsx\")"
   ]
  },
  {
   "cell_type": "code",
   "execution_count": 3,
   "metadata": {
    "collapsed": false
   },
   "outputs": [],
   "source": [
    "# on supprime les colonnes inutiles\n",
    "df = df.drop([\" AVT \", \" RVT \", \" TP- \", \" TRF \", \" TT- \"], axis= 1)"
   ]
  },
  {
   "cell_type": "code",
   "execution_count": 4,
   "metadata": {
    "collapsed": false
   },
   "outputs": [],
   "source": [
    "# on donne des noms compréhensibles à nos variables\n",
    "\n",
    "df.columns = [\"TypeContrat\", \"AnneeSousc\", \"AnneeFlux\", \"Avances\", \"FluxDeces\",\n",
    "              \"RemboursementAvance\", \"FluxRenonciation\", \"RachatPariel\", \"RachatTotal\",\n",
    "              \"FluxSouscription\", \"FluxReversement\"]"
   ]
  },
  {
   "cell_type": "code",
   "execution_count": 5,
   "metadata": {
    "collapsed": false
   },
   "outputs": [
    {
     "data": {
      "text/plain": [
       "TypeContrat             object\n",
       "AnneeSousc               int64\n",
       "AnneeFlux                int64\n",
       "Avances                float64\n",
       "FluxDeces              float64\n",
       "RemboursementAvance    float64\n",
       "FluxRenonciation       float64\n",
       "RachatPariel           float64\n",
       "RachatTotal            float64\n",
       "FluxSouscription       float64\n",
       "FluxReversement        float64\n",
       "dtype: object"
      ]
     },
     "execution_count": 5,
     "metadata": {},
     "output_type": "execute_result"
    }
   ],
   "source": [
    "df.dtypes"
   ]
  },
  {
   "cell_type": "code",
   "execution_count": 6,
   "metadata": {
    "collapsed": false
   },
   "outputs": [],
   "source": [
    "# On calcule l'ancienneté des contrats\n",
    "\n",
    "df[\"AncienneteContrat\"] = df[\"AnneeFlux\"] - df[\"AnneeSousc\"]"
   ]
  },
  {
   "cell_type": "code",
   "execution_count": 7,
   "metadata": {
    "collapsed": false
   },
   "outputs": [],
   "source": [
    "# on ajoute des colonnes indicatrices de rachat Total : 1 si rachat total, 0 sinon\n",
    "for x in range(0,len(df.RachatPariel)):\n",
    "    if df.loc[x, \"RachatTotal\"] == 0:\n",
    "        df.loc[x, \"IndicatriceRachatT\"] = 0\n",
    "    elif df.loc[x, \"RachatTotal\"] != 0:\n",
    "        df.loc[x, \"IndicatriceRachatT\"] = 1"
   ]
  },
  {
   "cell_type": "code",
   "execution_count": 8,
   "metadata": {
    "collapsed": false
   },
   "outputs": [],
   "source": [
    "# on ajoute des colonnes indicatrices de rachat partiel : 1 si rachat partiel, 0 sinon\n",
    "for x in range(0,len(df.RachatPariel)):\n",
    "    if df.loc[x, \"RachatPariel\"] == 0.0:\n",
    "        df.loc[x, \"IndicatriceRachatP\"] = 0\n",
    "    elif df.loc[x, \"RachatPariel\"] != 0.0:\n",
    "        df.loc[x, \"IndicatriceRachatP\"] = 1"
   ]
  },
  {
   "cell_type": "code",
   "execution_count": 9,
   "metadata": {
    "collapsed": true
   },
   "outputs": [],
   "source": [
    "# on ajoute des colonnes indicatrices de décès : 1 si décès, 0 sinon\n",
    "for x in range(0,len(df.FluxDeces)):\n",
    "    if df.loc[x, \"FluxDeces\"] == 0.0:\n",
    "        df.loc[x, \"Deces\"] = 0\n",
    "    elif df.loc[x, \"FluxDeces\"] != 0.0:\n",
    "        df.loc[x, \"Deces\"] = 1"
   ]
  },
  {
   "cell_type": "code",
   "execution_count": 10,
   "metadata": {
    "collapsed": false
   },
   "outputs": [],
   "source": [
    "df[\"IndicatriceRachatP\"] = df[\"IndicatriceRachatP\"].apply(lambda x: int(x))"
   ]
  },
  {
   "cell_type": "code",
   "execution_count": 11,
   "metadata": {
    "collapsed": true
   },
   "outputs": [],
   "source": [
    "df[\"IndicatriceRachatT\"] = df[\"IndicatriceRachatT\"].apply(lambda x: int(x))"
   ]
  },
  {
   "cell_type": "markdown",
   "metadata": {},
   "source": [
    "# Dataviz"
   ]
  },
  {
   "cell_type": "code",
   "execution_count": 12,
   "metadata": {
    "collapsed": true
   },
   "outputs": [],
   "source": [
    "import matplotlib as plt"
   ]
  },
  {
   "cell_type": "code",
   "execution_count": 13,
   "metadata": {
    "collapsed": true
   },
   "outputs": [],
   "source": [
    "%matplotlib inline"
   ]
  },
  {
   "cell_type": "code",
   "execution_count": 14,
   "metadata": {
    "collapsed": false
   },
   "outputs": [
    {
     "data": {
      "text/plain": [
       "TypeContrat\n",
       "CAPI     0.000000e+00\n",
       "Nonlu   -5.019558e+07\n",
       "REPU    -4.754547e+08\n",
       "REVL    -8.027249e+08\n",
       "SUC     -1.110707e+08\n",
       "Name: FluxDeces, dtype: float64"
      ]
     },
     "execution_count": 14,
     "metadata": {},
     "output_type": "execute_result"
    }
   ],
   "source": [
    "df.groupby(\"TypeContrat\")[\"FluxDeces\"].sum()"
   ]
  },
  {
   "cell_type": "code",
   "execution_count": 40,
   "metadata": {
    "collapsed": false
   },
   "outputs": [
    {
     "data": {
      "text/plain": [
       "<matplotlib.axes._subplots.AxesSubplot at 0xbcc3cf8>"
      ]
     },
     "execution_count": 40,
     "metadata": {},
     "output_type": "execute_result"
    },
    {
     "data": {
      "image/png": "[encoded data removed]",
      "text/plain": [
       "<matplotlib.figure.Figure at 0xbd0cc88>"
      ]
     },
     "metadata": {},
     "output_type": "display_data"
    }
   ],
   "source": [
    "# visualison les prestations deces en focntion du type de contrat\n",
    "(df.groupby(\"TypeContrat\")[\"FluxDeces\"].sum()*(-1)).plot(kind=\"bar\")"
   ]
  },
  {
   "cell_type": "code",
   "execution_count": 17,
   "metadata": {
    "collapsed": false
   },
   "outputs": [
    {
     "data": {
      "text/plain": [
       "TypeContrat\n",
       "CAPI     59\n",
       "Nonlu    38\n",
       "REPU     65\n",
       "REVL     52\n",
       "SUC      13\n",
       "Name: IndicatriceRachatT, dtype: int64"
      ]
     },
     "execution_count": 17,
     "metadata": {},
     "output_type": "execute_result"
    }
   ],
   "source": [
    "stats = df.groupby(\"TypeContrat\")[\"IndicatriceRachatT\"].sum()\n",
    "stats"
   ]
  },
  {
   "cell_type": "code",
   "execution_count": 18,
   "metadata": {
    "collapsed": false
   },
   "outputs": [
    {
     "data": {
      "text/plain": [
       "<matplotlib.axes._subplots.AxesSubplot at 0x9c72630>"
      ]
     },
     "execution_count": 18,
     "metadata": {},
     "output_type": "execute_result"
    },
    {
     "data": {
      "image/png": "[encoded data removed]",
      "text/plain": [
       "<matplotlib.figure.Figure at 0x9c7fe80>"
      ]
     },
     "metadata": {},
     "output_type": "display_data"
    }
   ],
   "source": [
    "stats.plot(kind = \"bar\")"
   ]
  },
  {
   "cell_type": "code",
   "execution_count": 20,
   "metadata": {
    "collapsed": false
   },
   "outputs": [
    {
     "data": {
      "text/plain": [
       "<matplotlib.axes._subplots.AxesSubplot at 0xb84f7f0>"
      ]
     },
     "execution_count": 20,
     "metadata": {},
     "output_type": "execute_result"
    },
    {
     "data": {
      "image/png": "[encoded data removed]",
      "text/plain": [
       "<matplotlib.figure.Figure at 0xb8587f0>"
      ]
     },
     "metadata": {},
     "output_type": "display_data"
    }
   ],
   "source": [
    "df.groupby(\"TypeContrat\")[\"IndicatriceRachatP\"].sum().plot(kind= \"bar\")"
   ]
  },
  {
   "cell_type": "code",
   "execution_count": 39,
   "metadata": {
    "collapsed": false
   },
   "outputs": [
    {
     "data": {
      "text/plain": [
       "<matplotlib.axes._subplots.AxesSubplot at 0xbb039b0>"
      ]
     },
     "execution_count": 39,
     "metadata": {},
     "output_type": "execute_result"
    },
    {
     "data": {
      "image/png": "[encoded data removed]",
      "text/plain": [
       "<matplotlib.figure.Figure at 0xbc717f0>"
      ]
     },
     "metadata": {},
     "output_type": "display_data"
    }
   ],
   "source": [
    "(df.groupby(\"TypeContrat\")[\"Avances\"].sum()*(-1)).plot(kind = \"bar\")"
   ]
  },
  {
   "cell_type": "code",
   "execution_count": 23,
   "metadata": {
    "collapsed": false
   },
   "outputs": [
    {
     "data": {
      "text/plain": [
       "<matplotlib.axes._subplots.AxesSubplot at 0xb85c128>"
      ]
     },
     "execution_count": 23,
     "metadata": {},
     "output_type": "execute_result"
    },
    {
     "data": {
      "image/png": "[encoded data removed]",
      "text/plain": [
       "<matplotlib.figure.Figure at 0xb98e080>"
      ]
     },
     "metadata": {},
     "output_type": "display_data"
    }
   ],
   "source": [
    "df.groupby(\"TypeContrat\")[\"RemboursementAvance\"].sum().plot(kind = \"bar\")"
   ]
  },
  {
   "cell_type": "code",
   "execution_count": 38,
   "metadata": {
    "collapsed": false
   },
   "outputs": [
    {
     "data": {
      "text/plain": [
       "<matplotlib.axes._subplots.AxesSubplot at 0xbc219e8>"
      ]
     },
     "execution_count": 38,
     "metadata": {},
     "output_type": "execute_result"
    },
    {
     "data": {
      "image/png": "[encoded data removed]",
      "text/plain": [
       "<matplotlib.figure.Figure at 0xb8f2c18>"
      ]
     },
     "metadata": {},
     "output_type": "display_data"
    }
   ],
   "source": [
    "(df.groupby(\"AncienneteContrat\")[\"RachatPariel\"].sum()*(-1)).plot(kind = \"bar\")"
   ]
  },
  {
   "cell_type": "code",
   "execution_count": 36,
   "metadata": {
    "collapsed": false
   },
   "outputs": [
    {
     "data": {
      "text/plain": [
       "<matplotlib.axes._subplots.AxesSubplot at 0xbad73c8>"
      ]
     },
     "execution_count": 36,
     "metadata": {},
     "output_type": "execute_result"
    },
    {
     "data": {
      "image/png": "[encoded data removed]",
      "text/plain": [
       "<matplotlib.figure.Figure at 0xbac49e8>"
      ]
     },
     "metadata": {},
     "output_type": "display_data"
    }
   ],
   "source": [
    "(df.groupby(\"AncienneteContrat\")[\"RachatTotal\"].sum()*(-1)).plot(kind = \"bar\")"
   ]
  },
  {
   "cell_type": "code",
   "execution_count": 35,
   "metadata": {
    "collapsed": false
   },
   "outputs": [
    {
     "data": {
      "text/plain": [
       "<matplotlib.axes._subplots.AxesSubplot at 0xbffaf60>"
      ]
     },
     "execution_count": 35,
     "metadata": {},
     "output_type": "execute_result"
    },
    {
     "data": {
      "image/png": "[encoded data removed]",
      "text/plain": [
       "<matplotlib.figure.Figure at 0xbf4def0>"
      ]
     },
     "metadata": {},
     "output_type": "display_data"
    }
   ],
   "source": [
    "(df.groupby(\"AncienneteContrat\")[\"RachatPariel\"].sum()*(-1)).plot(kind = \"bar\")"
   ]
  },
  {
   "cell_type": "code",
   "execution_count": 41,
   "metadata": {
    "collapsed": false
   },
   "outputs": [
    {
     "data": {
      "text/plain": [
       "<matplotlib.axes._subplots.AxesSubplot at 0xbd33ac8>"
      ]
     },
     "execution_count": 41,
     "metadata": {},
     "output_type": "execute_result"
    },
    {
     "data": {
      "image/png": "[encoded data removed]",
      "text/plain": [
       "<matplotlib.figure.Figure at 0xbd7d9e8>"
      ]
     },
     "metadata": {},
     "output_type": "display_data"
    }
   ],
   "source": [
    "(df.groupby(\"AnneeFlux\")[\"RachatPariel\"].sum()*(-1)).plot()"
   ]
  },
  {
   "cell_type": "markdown",
   "metadata": {},
   "source": [
    "# estimation des lois de rachat\n",
    "\n",
    "Pour l'estimation des taux de rachat par Kaplan Meier, nous allons effectuer quelques hypothèses sur les interactions entre les rachats et les décès:\n",
    "  - En ce qui concerne le rachat total:\n",
    "        S'il ya décès sur le contrat et rachat total pour la même année, on considère\n",
    "        que le rachat est consécutif au décès et donc on ne garde que l'évènement décès.\n",
    "  - Pour ce qui est du rachat partiel:\n",
    "        S'il ya décès et en même temps rachat partiel, on considère que l'évènement primordial est le rachat partiel.\n",
    "        c'est à dire que le décès n'a pas donné lieu à une résiliation de contrat."
   ]
  },
  {
   "cell_type": "code",
   "execution_count": 191,
   "metadata": {
    "collapsed": true
   },
   "outputs": [],
   "source": [
    "# Application sur le rachat total\n",
    "for i in range(len(df)):\n",
    "    if df.loc[i,\"FluxDeces\"]!=0.0 and df.loc[i, \"RachatTotal\"] != 0.0:\n",
    "        df.loc[i,\"DecesOuRachatT\"] = 1\n",
    "        df.loc[i, \"rachatT\"]      = 0\n",
    "    elif df.loc[i, \"FluxDeces\"] != 0 and df.loc[i, \"RachatTotal\"] == 0:\n",
    "        df.loc[i,\"DecesOuRachatT\"] = 1\n",
    "        df.loc[i, \"rachatT\"]      = 0\n",
    "    elif df.loc[i, \"FluxDeces\"] == 0 and df.loc[i, \"RachatTotal\"] != 0:\n",
    "        df.loc[i, \"DecesOuRachatT\"] = 0\n",
    "        df.loc[i, \"rachatT\"]       = 1\n",
    "    elif df.loc[i, \"FluxDeces\"] ==0 and df.loc[i, \"RachatTotal\"] == 0:\n",
    "        df.loc[i, \"DecesOuRachatT\"] = 0\n",
    "        df.loc[i, \"rachatT\"]       = 0"
   ]
  },
  {
   "cell_type": "code",
   "execution_count": 192,
   "metadata": {
    "collapsed": true
   },
   "outputs": [],
   "source": [
    "# Application sur le rachat partiel\n",
    "for i in range(len(df)):\n",
    "    if df.loc[i,\"FluxDeces\"]!=0.0 and df.loc[i, \"RachatPariel\"] != 0.0:\n",
    "        df.loc[i,\"DecesOuRachatP\"] = 0\n",
    "        df.loc[i, \"rachatP\"]      = 1\n",
    "    elif df.loc[i, \"FluxDeces\"] != 0 and df.loc[i, \"RachatPariel\"] == 0:\n",
    "        df.loc[i,\"DecesOuRachatP\"] = 1\n",
    "        df.loc[i, \"rachatP\"]      = 0\n",
    "    elif df.loc[i, \"FluxDeces\"] == 0 and df.loc[i, \"RachatPariel\"] != 0:\n",
    "        df.loc[i, \"DecesOuRachatP\"] = 0\n",
    "        df.loc[i, \"rachatP\"]       = 1\n",
    "    elif df.loc[i, \"FluxDeces\"] ==0 and df.loc[i, \"RachatPariel\"] == 0:\n",
    "        df.loc[i, \"DecesOuRachatP\"] = 0\n",
    "        df.loc[i, \"rachatP\"]       = 0"
   ]
  },
  {
   "cell_type": "code",
   "execution_count": 193,
   "metadata": {
    "collapsed": false
   },
   "outputs": [],
   "source": [
    "rachat_total = df.groupby(\"AnneeFlux\")[[\"rachatT\",\"DecesOuRachatT\"]].sum()"
   ]
  },
  {
   "cell_type": "code",
   "execution_count": 201,
   "metadata": {
    "collapsed": true
   },
   "outputs": [],
   "source": [
    "def kaplan_meier(df):\n",
    "    \"\"\"\n",
    "    Cette fonction calcul le taux de rachat\n",
    "    en utilisant l'estimateur de kaplan meier.\n",
    "    \"\"\"\n",
    "    \n",
    "    import pandas as pd\n",
    "    df = pd.DataFrame(df)\n",
    "    \n",
    "    tableau = pd.DataFrame(columns = [\"annee\", \"effectif_sous_risque\", \"deces_censure\", \"rachat\",\n",
    "                                       \"rachat/effectif_sous_risque\", \"1-rachat/effectif_sous_risque\",\n",
    "                                       \"Produit(1-rachat/effectif_sous_risque)\"])\n",
    "    \n",
    "    tableau.loc[0] = [0, 324, 0, 0, 0, 0, 1]\n",
    "    tableau.loc[1] = [1, 324, 0, 0, 0, 0, 1]\n",
    "    \n",
    "    for i in range(1, 13):\n",
    "        tableau.loc[i+1,'annee'] = int(i+1)\n",
    "        \n",
    "        tableau.loc[i+1,'effectif_sous_risque'] = tableau.loc[i, \"effectif_sous_risque\"] - df.iloc[i, 0] - df.iloc[i, 1]\n",
    "        \n",
    "        tableau.loc[i+1,'deces_censure'] = df.iloc[i, 1]\n",
    "        \n",
    "        tableau.loc[i+1,'rachat'] = df.iloc[i, 0]\n",
    "        \n",
    "        tableau.loc[i+1,'rachat/effectif_sous_risque'] = tableau.loc[i+1, \"rachat\"]/tableau.loc[i+1, \"effectif_sous_risque\"]\n",
    "        \n",
    "        tableau.loc[i+1,'1-rachat/effectif_sous_risque'] = 1 - tableau.loc[i+1, \"rachat/effectif_sous_risque\"]\n",
    "        \n",
    "        tableau.loc[i+1,\"Produit(1-rachat/effectif_sous_risque)\"] = tableau.loc[i, \"Produit(1-rachat/effectif_sous_risque)\"]*tableau.loc[i+1,\"1-rachat/effectif_sous_risque\"]\n",
    "    \n",
    "    taux_rachat = 1 - tableau.loc[13, \"Produit(1-rachat/effectif_sous_risque)\"]\n",
    "    return taux_rachat"
   ]
  },
  {
   "cell_type": "code",
   "execution_count": 194,
   "metadata": {
    "collapsed": false
   },
   "outputs": [
    {
     "data": {
      "text/plain": [
       "0.47651729318211811"
      ]
     },
     "execution_count": 194,
     "metadata": {},
     "output_type": "execute_result"
    }
   ],
   "source": [
    "kaplan_meier(rachat_total)"
   ]
  },
  {
   "cell_type": "code",
   "execution_count": 195,
   "metadata": {
    "collapsed": false
   },
   "outputs": [],
   "source": [
    "rachat_partiel=df.groupby(\"AnneeFlux\")[[\"rachatP\",\"DecesOuRachatP\"]].sum()"
   ]
  },
  {
   "cell_type": "code",
   "execution_count": 202,
   "metadata": {
    "collapsed": false
   },
   "outputs": [
    {
     "data": {
      "text/plain": [
       "(    annee  effectif_sous_risque  deces_censure  rachat  \\\n",
       " 0     0.0                 324.0            0.0     0.0   \n",
       " 1     1.0                 324.0            0.0     0.0   \n",
       " 2     2.0                 320.0            0.0     4.0   \n",
       " 3     3.0                 316.0            0.0     4.0   \n",
       " 4     4.0                 308.0            0.0     8.0   \n",
       " 5     5.0                 292.0            1.0    15.0   \n",
       " 6     6.0                 271.0            0.0    21.0   \n",
       " 7     7.0                 246.0            1.0    24.0   \n",
       " 8     8.0                 217.0            3.0    26.0   \n",
       " 9     9.0                 185.0            1.0    31.0   \n",
       " 10   10.0                 150.0            1.0    34.0   \n",
       " 11   11.0                 116.0            0.0    34.0   \n",
       " 12   12.0                  75.0            3.0    38.0   \n",
       " 13   13.0                  38.0            0.0    37.0   \n",
       " \n",
       "     rachat/effectif_sous_risque  1-rachat/effectif_sous_risque  \\\n",
       " 0                      0.000000                       0.000000   \n",
       " 1                      0.000000                       0.000000   \n",
       " 2                      0.012500                       0.987500   \n",
       " 3                      0.012658                       0.987342   \n",
       " 4                      0.025974                       0.974026   \n",
       " 5                      0.051370                       0.948630   \n",
       " 6                      0.077491                       0.922509   \n",
       " 7                      0.097561                       0.902439   \n",
       " 8                      0.119816                       0.880184   \n",
       " 9                      0.167568                       0.832432   \n",
       " 10                     0.226667                       0.773333   \n",
       " 11                     0.293103                       0.706897   \n",
       " 12                     0.506667                       0.493333   \n",
       " 13                     0.973684                       0.026316   \n",
       " \n",
       "     Produit(1-rachat/effectif_sous_risque)  \n",
       " 0                                 1.000000  \n",
       " 1                                 1.000000  \n",
       " 2                                 0.987500  \n",
       " 3                                 0.975000  \n",
       " 4                                 0.949675  \n",
       " 5                                 0.900891  \n",
       " 6                                 0.831080  \n",
       " 7                                 0.749999  \n",
       " 8                                 0.660137  \n",
       " 9                                 0.549520  \n",
       " 10                                0.424962  \n",
       " 11                                0.300404  \n",
       " 12                                0.148199  \n",
       " 13                                0.003900  , 0.99610001676693216)"
      ]
     },
     "execution_count": 202,
     "metadata": {},
     "output_type": "execute_result"
    }
   ],
   "source": [
    "kaplan_meier(rachat_partiel)"
   ]
  },
  {
   "cell_type": "code",
   "execution_count": null,
   "metadata": {
    "collapsed": true
   },
   "outputs": [],
   "source": []
  }
 ],
 "metadata": {
  "anaconda-cloud": {},
  "kernelspec": {
   "display_name": "Python [default]",
   "language": "python",
   "name": "python3"
  },
  "language_info": {
   "codemirror_mode": {
    "name": "ipython",
    "version": 3
   },
   "file_extension": ".py",
   "mimetype": "text/x-python",
   "name": "python",
   "nbconvert_exporter": "python",
   "pygments_lexer": "ipython3",
   "version": "3.5.2"
  }
 },
 "nbformat": 4,
 "nbformat_minor": 2
}
